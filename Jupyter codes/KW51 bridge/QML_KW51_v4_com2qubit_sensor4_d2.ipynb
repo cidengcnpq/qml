{
  "cells": [
    {
      "cell_type": "code",
      "execution_count": null,
      "metadata": {
        "id": "962327e1",
        "outputId": "c7616800-7fd1-424f-fd19-0c78c4cd1aa0",
        "colab": {
          "base_uri": "https://localhost:8080/",
          "height": 1000
        }
      },
      "outputs": [
        {
          "output_type": "stream",
          "name": "stdout",
          "text": [
            "Collecting covalent\n",
            "  Downloading covalent-0.232.0.post1.tar.gz (4.2 MB)\n",
            "\u001b[2K     \u001b[90m━━━━━━━━━━━━━━━━━━━━━━━━━━━━━━━━━━━━━━━━\u001b[0m \u001b[32m4.2/4.2 MB\u001b[0m \u001b[31m13.1 MB/s\u001b[0m eta \u001b[36m0:00:00\u001b[0m\n",
            "\u001b[?25h  Installing build dependencies ... \u001b[?25l\u001b[?25hdone\n",
            "  Getting requirements to build wheel ... \u001b[?25l\u001b[?25hdone\n",
            "  Preparing metadata (pyproject.toml) ... \u001b[?25l\u001b[?25hdone\n",
            "Collecting aiofiles>=0.8.0 (from covalent)\n",
            "  Downloading aiofiles-23.2.1-py3-none-any.whl (15 kB)\n",
            "Requirement already satisfied: aiohttp>=3.8.1 in /usr/local/lib/python3.10/dist-packages (from covalent) (3.9.3)\n",
            "Collecting alembic>=1.8.0 (from covalent)\n",
            "  Downloading alembic-1.13.1-py3-none-any.whl (233 kB)\n",
            "\u001b[2K     \u001b[90m━━━━━━━━━━━━━━━━━━━━━━━━━━━━━━━━━━━━━━━━\u001b[0m \u001b[32m233.4/233.4 kB\u001b[0m \u001b[31m24.4 MB/s\u001b[0m eta \u001b[36m0:00:00\u001b[0m\n",
            "\u001b[?25hCollecting boto3>=1.26.110 (from covalent)\n",
            "  Downloading boto3-1.34.54-py3-none-any.whl (139 kB)\n",
            "\u001b[2K     \u001b[90m━━━━━━━━━━━━━━━━━━━━━━━━━━━━━━━━━━━━━━━━\u001b[0m \u001b[32m139.3/139.3 kB\u001b[0m \u001b[31m16.2 MB/s\u001b[0m eta \u001b[36m0:00:00\u001b[0m\n",
            "\u001b[?25hRequirement already satisfied: click>=8.1.3 in /usr/local/lib/python3.10/dist-packages (from covalent) (8.1.7)\n",
            "Requirement already satisfied: cloudpickle>=2.0.0 in /usr/local/lib/python3.10/dist-packages (from covalent) (2.2.1)\n",
            "Requirement already satisfied: dask[distributed]>=2022.6.0 in /usr/local/lib/python3.10/dist-packages (from covalent) (2023.8.1)\n",
            "Collecting fastapi>=0.100.0 (from covalent)\n",
            "  Downloading fastapi-0.110.0-py3-none-any.whl (92 kB)\n",
            "\u001b[2K     \u001b[90m━━━━━━━━━━━━━━━━━━━━━━━━━━━━━━━━━━━━━━━━\u001b[0m \u001b[32m92.1/92.1 kB\u001b[0m \u001b[31m9.2 MB/s\u001b[0m eta \u001b[36m0:00:00\u001b[0m\n",
            "\u001b[?25hRequirement already satisfied: filelock>=3.12.2 in /usr/local/lib/python3.10/dist-packages (from covalent) (3.13.1)\n",
            "Collecting furl>=2.1.3 (from covalent)\n",
            "  Downloading furl-2.1.3-py2.py3-none-any.whl (20 kB)\n",
            "Collecting lmdbm>=0.0.5 (from covalent)\n",
            "  Downloading lmdbm-0.0.5-py2.py3-none-any.whl (5.8 kB)\n",
            "Collecting mpire>=2.7.1 (from covalent)\n",
            "  Downloading mpire-2.10.0-py3-none-any.whl (272 kB)\n",
            "\u001b[2K     \u001b[90m━━━━━━━━━━━━━━━━━━━━━━━━━━━━━━━━━━━━━━━━\u001b[0m \u001b[32m272.1/272.1 kB\u001b[0m \u001b[31m24.7 MB/s\u001b[0m eta \u001b[36m0:00:00\u001b[0m\n",
            "\u001b[?25hRequirement already satisfied: natsort>=8.4.0 in /usr/local/lib/python3.10/dist-packages (from covalent) (8.4.0)\n",
            "Requirement already satisfied: networkx>=2.8.6 in /usr/local/lib/python3.10/dist-packages (from covalent) (3.2.1)\n",
            "Collecting orjson>=3.8.10 (from covalent)\n",
            "  Downloading orjson-3.9.15-cp310-cp310-manylinux_2_17_x86_64.manylinux2014_x86_64.whl (138 kB)\n",
            "\u001b[2K     \u001b[90m━━━━━━━━━━━━━━━━━━━━━━━━━━━━━━━━━━━━━━━━\u001b[0m \u001b[32m138.5/138.5 kB\u001b[0m \u001b[31m14.1 MB/s\u001b[0m eta \u001b[36m0:00:00\u001b[0m\n",
            "\u001b[?25hCollecting pennylane<0.33.0,>=0.31.1 (from covalent)\n",
            "  Downloading PennyLane-0.32.0-py3-none-any.whl (1.5 MB)\n",
            "\u001b[2K     \u001b[90m━━━━━━━━━━━━━━━━━━━━━━━━━━━━━━━━━━━━━━━━\u001b[0m \u001b[32m1.5/1.5 MB\u001b[0m \u001b[31m66.6 MB/s\u001b[0m eta \u001b[36m0:00:00\u001b[0m\n",
            "\u001b[?25hRequirement already satisfied: psutil>=5.9.0 in /usr/local/lib/python3.10/dist-packages (from covalent) (5.9.5)\n",
            "Requirement already satisfied: pydantic>=2.1.1 in /usr/local/lib/python3.10/dist-packages (from covalent) (2.6.3)\n",
            "Collecting python-multipart>=0.0.6 (from covalent)\n",
            "  Downloading python_multipart-0.0.9-py3-none-any.whl (22 kB)\n",
            "Collecting python-socketio>=5.7.1 (from covalent)\n",
            "  Downloading python_socketio-5.11.1-py3-none-any.whl (75 kB)\n",
            "\u001b[2K     \u001b[90m━━━━━━━━━━━━━━━━━━━━━━━━━━━━━━━━━━━━━━━━\u001b[0m \u001b[32m75.5/75.5 kB\u001b[0m \u001b[31m8.8 MB/s\u001b[0m eta \u001b[36m0:00:00\u001b[0m\n",
            "\u001b[?25hRequirement already satisfied: requests>=2.24.0 in /usr/local/lib/python3.10/dist-packages (from covalent) (2.31.0)\n",
            "Collecting rich<=13.3.5,>=12.0.0 (from covalent)\n",
            "  Downloading rich-13.3.5-py3-none-any.whl (238 kB)\n",
            "\u001b[2K     \u001b[90m━━━━━━━━━━━━━━━━━━━━━━━━━━━━━━━━━━━━━━━━\u001b[0m \u001b[32m238.7/238.7 kB\u001b[0m \u001b[31m20.0 MB/s\u001b[0m eta \u001b[36m0:00:00\u001b[0m\n",
            "\u001b[?25hCollecting simplejson>=3.17.6 (from covalent)\n",
            "  Downloading simplejson-3.19.2-cp310-cp310-manylinux_2_5_x86_64.manylinux1_x86_64.manylinux_2_17_x86_64.manylinux2014_x86_64.whl (137 kB)\n",
            "\u001b[2K     \u001b[90m━━━━━━━━━━━━━━━━━━━━━━━━━━━━━━━━━━━━━━━━\u001b[0m \u001b[32m137.9/137.9 kB\u001b[0m \u001b[31m14.8 MB/s\u001b[0m eta \u001b[36m0:00:00\u001b[0m\n",
            "\u001b[?25hCollecting sqlalchemy<2.0.0,>=1.4.37 (from covalent)\n",
            "  Downloading SQLAlchemy-1.4.51-cp310-cp310-manylinux_2_5_x86_64.manylinux1_x86_64.manylinux_2_17_x86_64.manylinux2014_x86_64.whl (1.6 MB)\n",
            "\u001b[2K     \u001b[90m━━━━━━━━━━━━━━━━━━━━━━━━━━━━━━━━━━━━━━━━\u001b[0m \u001b[32m1.6/1.6 MB\u001b[0m \u001b[31m56.1 MB/s\u001b[0m eta \u001b[36m0:00:00\u001b[0m\n",
            "\u001b[?25hCollecting sqlalchemy-utils>=0.38.3 (from covalent)\n",
            "  Downloading SQLAlchemy_Utils-0.41.1-py3-none-any.whl (92 kB)\n",
            "\u001b[2K     \u001b[90m━━━━━━━━━━━━━━━━━━━━━━━━━━━━━━━━━━━━━━━━\u001b[0m \u001b[32m92.6/92.6 kB\u001b[0m \u001b[31m10.6 MB/s\u001b[0m eta \u001b[36m0:00:00\u001b[0m\n",
            "\u001b[?25hRequirement already satisfied: toml>=0.10.2 in /usr/local/lib/python3.10/dist-packages (from covalent) (0.10.2)\n",
            "Requirement already satisfied: typing-extensions>=4.8.0 in /usr/local/lib/python3.10/dist-packages (from covalent) (4.10.0)\n",
            "Collecting uvicorn[standard]==0.18.3 (from covalent)\n",
            "  Downloading uvicorn-0.18.3-py3-none-any.whl (57 kB)\n",
            "\u001b[2K     \u001b[90m━━━━━━━━━━━━━━━━━━━━━━━━━━━━━━━━━━━━━━━━\u001b[0m \u001b[32m57.4/57.4 kB\u001b[0m \u001b[31m6.4 MB/s\u001b[0m eta \u001b[36m0:00:00\u001b[0m\n",
            "\u001b[?25hCollecting watchdog>=2.2.1 (from covalent)\n",
            "  Downloading watchdog-4.0.0-py3-none-manylinux2014_x86_64.whl (82 kB)\n",
            "\u001b[2K     \u001b[90m━━━━━━━━━━━━━━━━━━━━━━━━━━━━━━━━━━━━━━━━\u001b[0m \u001b[32m83.0/83.0 kB\u001b[0m \u001b[31m10.2 MB/s\u001b[0m eta \u001b[36m0:00:00\u001b[0m\n",
            "\u001b[?25hRequirement already satisfied: werkzeug>=2.0.3 in /usr/local/lib/python3.10/dist-packages (from covalent) (3.0.1)\n",
            "Collecting h11>=0.8 (from uvicorn[standard]==0.18.3->covalent)\n",
            "  Downloading h11-0.14.0-py3-none-any.whl (58 kB)\n",
            "\u001b[2K     \u001b[90m━━━━━━━━━━━━━━━━━━━━━━━━━━━━━━━━━━━━━━━━\u001b[0m \u001b[32m58.3/58.3 kB\u001b[0m \u001b[31m6.7 MB/s\u001b[0m eta \u001b[36m0:00:00\u001b[0m\n",
            "\u001b[?25hCollecting httptools>=0.4.0 (from uvicorn[standard]==0.18.3->covalent)\n",
            "  Downloading httptools-0.6.1-cp310-cp310-manylinux_2_5_x86_64.manylinux1_x86_64.manylinux_2_17_x86_64.manylinux2014_x86_64.whl (341 kB)\n",
            "\u001b[2K     \u001b[90m━━━━━━━━━━━━━━━━━━━━━━━━━━━━━━━━━━━━━━━━\u001b[0m \u001b[32m341.4/341.4 kB\u001b[0m \u001b[31m34.2 MB/s\u001b[0m eta \u001b[36m0:00:00\u001b[0m\n",
            "\u001b[?25hCollecting python-dotenv>=0.13 (from uvicorn[standard]==0.18.3->covalent)\n",
            "  Downloading python_dotenv-1.0.1-py3-none-any.whl (19 kB)\n",
            "Requirement already satisfied: pyyaml>=5.1 in /usr/local/lib/python3.10/dist-packages (from uvicorn[standard]==0.18.3->covalent) (6.0.1)\n",
            "Collecting uvloop!=0.15.0,!=0.15.1,>=0.14.0 (from uvicorn[standard]==0.18.3->covalent)\n",
            "  Downloading uvloop-0.19.0-cp310-cp310-manylinux_2_17_x86_64.manylinux2014_x86_64.whl (3.4 MB)\n",
            "\u001b[2K     \u001b[90m━━━━━━━━━━━━━━━━━━━━━━━━━━━━━━━━━━━━━━━━\u001b[0m \u001b[32m3.4/3.4 MB\u001b[0m \u001b[31m83.6 MB/s\u001b[0m eta \u001b[36m0:00:00\u001b[0m\n",
            "\u001b[?25hCollecting watchfiles>=0.13 (from uvicorn[standard]==0.18.3->covalent)\n",
            "  Downloading watchfiles-0.21.0-cp310-cp310-manylinux_2_17_x86_64.manylinux2014_x86_64.whl (1.3 MB)\n",
            "\u001b[2K     \u001b[90m━━━━━━━━━━━━━━━━━━━━━━━━━━━━━━━━━━━━━━━━\u001b[0m \u001b[32m1.3/1.3 MB\u001b[0m \u001b[31m69.5 MB/s\u001b[0m eta \u001b[36m0:00:00\u001b[0m\n",
            "\u001b[?25hCollecting websockets>=10.0 (from uvicorn[standard]==0.18.3->covalent)\n",
            "  Downloading websockets-12.0-cp310-cp310-manylinux_2_5_x86_64.manylinux1_x86_64.manylinux_2_17_x86_64.manylinux2014_x86_64.whl (130 kB)\n",
            "\u001b[2K     \u001b[90m━━━━━━━━━━━━━━━━━━━━━━━━━━━━━━━━━━━━━━━━\u001b[0m \u001b[32m130.2/130.2 kB\u001b[0m \u001b[31m15.0 MB/s\u001b[0m eta \u001b[36m0:00:00\u001b[0m\n",
            "\u001b[?25hRequirement already satisfied: aiosignal>=1.1.2 in /usr/local/lib/python3.10/dist-packages (from aiohttp>=3.8.1->covalent) (1.3.1)\n",
            "Requirement already satisfied: attrs>=17.3.0 in /usr/local/lib/python3.10/dist-packages (from aiohttp>=3.8.1->covalent) (23.2.0)\n",
            "Requirement already satisfied: frozenlist>=1.1.1 in /usr/local/lib/python3.10/dist-packages (from aiohttp>=3.8.1->covalent) (1.4.1)\n",
            "Requirement already satisfied: multidict<7.0,>=4.5 in /usr/local/lib/python3.10/dist-packages (from aiohttp>=3.8.1->covalent) (6.0.5)\n",
            "Requirement already satisfied: yarl<2.0,>=1.0 in /usr/local/lib/python3.10/dist-packages (from aiohttp>=3.8.1->covalent) (1.9.4)\n",
            "Requirement already satisfied: async-timeout<5.0,>=4.0 in /usr/local/lib/python3.10/dist-packages (from aiohttp>=3.8.1->covalent) (4.0.3)\n",
            "Collecting Mako (from alembic>=1.8.0->covalent)\n",
            "  Downloading Mako-1.3.2-py3-none-any.whl (78 kB)\n",
            "\u001b[2K     \u001b[90m━━━━━━━━━━━━━━━━━━━━━━━━━━━━━━━━━━━━━━━━\u001b[0m \u001b[32m78.7/78.7 kB\u001b[0m \u001b[31m9.8 MB/s\u001b[0m eta \u001b[36m0:00:00\u001b[0m\n",
            "\u001b[?25hCollecting botocore<1.35.0,>=1.34.54 (from boto3>=1.26.110->covalent)\n",
            "  Downloading botocore-1.34.54-py3-none-any.whl (12.0 MB)\n",
            "\u001b[2K     \u001b[90m━━━━━━━━━━━━━━━━━━━━━━━━━━━━━━━━━━━━━━━━\u001b[0m \u001b[32m12.0/12.0 MB\u001b[0m \u001b[31m65.7 MB/s\u001b[0m eta \u001b[36m0:00:00\u001b[0m\n",
            "\u001b[?25hCollecting jmespath<2.0.0,>=0.7.1 (from boto3>=1.26.110->covalent)\n",
            "  Downloading jmespath-1.0.1-py3-none-any.whl (20 kB)\n",
            "Collecting s3transfer<0.11.0,>=0.10.0 (from boto3>=1.26.110->covalent)\n",
            "  Downloading s3transfer-0.10.0-py3-none-any.whl (82 kB)\n",
            "\u001b[2K     \u001b[90m━━━━━━━━━━━━━━━━━━━━━━━━━━━━━━━━━━━━━━━━\u001b[0m \u001b[32m82.1/82.1 kB\u001b[0m \u001b[31m10.2 MB/s\u001b[0m eta \u001b[36m0:00:00\u001b[0m\n",
            "\u001b[?25hRequirement already satisfied: fsspec>=2021.09.0 in /usr/local/lib/python3.10/dist-packages (from dask[distributed]>=2022.6.0->covalent) (2023.6.0)\n",
            "Requirement already satisfied: packaging>=20.0 in /usr/local/lib/python3.10/dist-packages (from dask[distributed]>=2022.6.0->covalent) (23.2)\n",
            "Requirement already satisfied: partd>=1.2.0 in /usr/local/lib/python3.10/dist-packages (from dask[distributed]>=2022.6.0->covalent) (1.4.1)\n",
            "Requirement already satisfied: toolz>=0.10.0 in /usr/local/lib/python3.10/dist-packages (from dask[distributed]>=2022.6.0->covalent) (0.12.1)\n",
            "Requirement already satisfied: importlib-metadata>=4.13.0 in /usr/local/lib/python3.10/dist-packages (from dask[distributed]>=2022.6.0->covalent) (7.0.1)\n",
            "Requirement already satisfied: distributed==2023.8.1 in /usr/local/lib/python3.10/dist-packages (from dask[distributed]>=2022.6.0->covalent) (2023.8.1)\n",
            "Requirement already satisfied: jinja2>=2.10.3 in /usr/local/lib/python3.10/dist-packages (from distributed==2023.8.1->dask[distributed]>=2022.6.0->covalent) (3.1.3)\n",
            "Requirement already satisfied: locket>=1.0.0 in /usr/local/lib/python3.10/dist-packages (from distributed==2023.8.1->dask[distributed]>=2022.6.0->covalent) (1.0.0)\n",
            "Requirement already satisfied: msgpack>=1.0.0 in /usr/local/lib/python3.10/dist-packages (from distributed==2023.8.1->dask[distributed]>=2022.6.0->covalent) (1.0.7)\n",
            "Requirement already satisfied: sortedcontainers>=2.0.5 in /usr/local/lib/python3.10/dist-packages (from distributed==2023.8.1->dask[distributed]>=2022.6.0->covalent) (2.4.0)\n",
            "Requirement already satisfied: tblib>=1.6.0 in /usr/local/lib/python3.10/dist-packages (from distributed==2023.8.1->dask[distributed]>=2022.6.0->covalent) (3.0.0)\n",
            "Requirement already satisfied: tornado>=6.0.4 in /usr/local/lib/python3.10/dist-packages (from distributed==2023.8.1->dask[distributed]>=2022.6.0->covalent) (6.3.2)\n",
            "Requirement already satisfied: urllib3>=1.24.3 in /usr/local/lib/python3.10/dist-packages (from distributed==2023.8.1->dask[distributed]>=2022.6.0->covalent) (2.0.7)\n",
            "Requirement already satisfied: zict>=2.2.0 in /usr/local/lib/python3.10/dist-packages (from distributed==2023.8.1->dask[distributed]>=2022.6.0->covalent) (3.0.0)\n",
            "Collecting starlette<0.37.0,>=0.36.3 (from fastapi>=0.100.0->covalent)\n",
            "  Downloading starlette-0.36.3-py3-none-any.whl (71 kB)\n",
            "\u001b[2K     \u001b[90m━━━━━━━━━━━━━━━━━━━━━━━━━━━━━━━━━━━━━━━━\u001b[0m \u001b[32m71.5/71.5 kB\u001b[0m \u001b[31m9.3 MB/s\u001b[0m eta \u001b[36m0:00:00\u001b[0m\n",
            "\u001b[?25hRequirement already satisfied: six>=1.8.0 in /usr/local/lib/python3.10/dist-packages (from furl>=2.1.3->covalent) (1.16.0)\n",
            "Collecting orderedmultidict>=1.0.1 (from furl>=2.1.3->covalent)\n",
            "  Downloading orderedmultidict-1.0.1-py2.py3-none-any.whl (11 kB)\n",
            "Collecting lmdb (from lmdbm>=0.0.5->covalent)\n",
            "  Downloading lmdb-1.4.1-cp310-cp310-manylinux_2_17_x86_64.manylinux2014_x86_64.whl (299 kB)\n",
            "\u001b[2K     \u001b[90m━━━━━━━━━━━━━━━━━━━━━━━━━━━━━━━━━━━━━━━━\u001b[0m \u001b[32m299.2/299.2 kB\u001b[0m \u001b[31m31.4 MB/s\u001b[0m eta \u001b[36m0:00:00\u001b[0m\n",
            "\u001b[?25hRequirement already satisfied: pygments>=2.0 in /usr/local/lib/python3.10/dist-packages (from mpire>=2.7.1->covalent) (2.16.1)\n",
            "Requirement already satisfied: tqdm>=4.27 in /usr/local/lib/python3.10/dist-packages (from mpire>=2.7.1->covalent) (4.66.2)\n",
            "Collecting numpy<1.24 (from pennylane<0.33.0,>=0.31.1->covalent)\n",
            "  Downloading numpy-1.23.5-cp310-cp310-manylinux_2_17_x86_64.manylinux2014_x86_64.whl (17.1 MB)\n",
            "\u001b[2K     \u001b[90m━━━━━━━━━━━━━━━━━━━━━━━━━━━━━━━━━━━━━━━━\u001b[0m \u001b[32m17.1/17.1 MB\u001b[0m \u001b[31m59.9 MB/s\u001b[0m eta \u001b[36m0:00:00\u001b[0m\n",
            "\u001b[?25hRequirement already satisfied: scipy in /usr/local/lib/python3.10/dist-packages (from pennylane<0.33.0,>=0.31.1->covalent) (1.11.4)\n",
            "Collecting rustworkx (from pennylane<0.33.0,>=0.31.1->covalent)\n",
            "  Downloading rustworkx-0.14.1-cp310-cp310-manylinux_2_17_x86_64.manylinux2014_x86_64.whl (2.1 MB)\n",
            "\u001b[2K     \u001b[90m━━━━━━━━━━━━━━━━━━━━━━━━━━━━━━━━━━━━━━━━\u001b[0m \u001b[32m2.1/2.1 MB\u001b[0m \u001b[31m72.0 MB/s\u001b[0m eta \u001b[36m0:00:00\u001b[0m\n",
            "\u001b[?25hCollecting autograd<=1.5 (from pennylane<0.33.0,>=0.31.1->covalent)\n",
            "  Downloading autograd-1.5-py3-none-any.whl (48 kB)\n",
            "\u001b[2K     \u001b[90m━━━━━━━━━━━━━━━━━━━━━━━━━━━━━━━━━━━━━━━━\u001b[0m \u001b[32m48.9/48.9 kB\u001b[0m \u001b[31m6.1 MB/s\u001b[0m eta \u001b[36m0:00:00\u001b[0m\n",
            "\u001b[?25hRequirement already satisfied: appdirs in /usr/local/lib/python3.10/dist-packages (from pennylane<0.33.0,>=0.31.1->covalent) (1.4.4)\n",
            "Collecting semantic-version>=2.7 (from pennylane<0.33.0,>=0.31.1->covalent)\n",
            "  Downloading semantic_version-2.10.0-py2.py3-none-any.whl (15 kB)\n",
            "Collecting autoray>=0.3.1 (from pennylane<0.33.0,>=0.31.1->covalent)\n",
            "  Downloading autoray-0.6.8-py3-none-any.whl (49 kB)\n",
            "\u001b[2K     \u001b[90m━━━━━━━━━━━━━━━━━━━━━━━━━━━━━━━━━━━━━━━━\u001b[0m \u001b[32m49.9/49.9 kB\u001b[0m \u001b[31m6.2 MB/s\u001b[0m eta \u001b[36m0:00:00\u001b[0m\n",
            "\u001b[?25hRequirement already satisfied: cachetools in /usr/local/lib/python3.10/dist-packages (from pennylane<0.33.0,>=0.31.1->covalent) (5.3.3)\n",
            "Collecting pennylane-lightning>=0.32 (from pennylane<0.33.0,>=0.31.1->covalent)\n",
            "  Downloading PennyLane_Lightning-0.34.0-cp310-cp310-manylinux_2_17_x86_64.manylinux2014_x86_64.whl (18.1 MB)\n",
            "\u001b[2K     \u001b[90m━━━━━━━━━━━━━━━━━━━━━━━━━━━━━━━━━━━━━━━━\u001b[0m \u001b[32m18.1/18.1 MB\u001b[0m \u001b[31m53.1 MB/s\u001b[0m eta \u001b[36m0:00:00\u001b[0m\n",
            "\u001b[?25hRequirement already satisfied: annotated-types>=0.4.0 in /usr/local/lib/python3.10/dist-packages (from pydantic>=2.1.1->covalent) (0.6.0)\n",
            "Requirement already satisfied: pydantic-core==2.16.3 in /usr/local/lib/python3.10/dist-packages (from pydantic>=2.1.1->covalent) (2.16.3)\n",
            "Requirement already satisfied: bidict>=0.21.0 in /usr/local/lib/python3.10/dist-packages (from python-socketio>=5.7.1->covalent) (0.23.1)\n",
            "Collecting python-engineio>=4.8.0 (from python-socketio>=5.7.1->covalent)\n",
            "  Downloading python_engineio-4.9.0-py3-none-any.whl (57 kB)\n",
            "\u001b[2K     \u001b[90m━━━━━━━━━━━━━━━━━━━━━━━━━━━━━━━━━━━━━━━━\u001b[0m \u001b[32m57.5/57.5 kB\u001b[0m \u001b[31m7.5 MB/s\u001b[0m eta \u001b[36m0:00:00\u001b[0m\n",
            "\u001b[?25hRequirement already satisfied: charset-normalizer<4,>=2 in /usr/local/lib/python3.10/dist-packages (from requests>=2.24.0->covalent) (3.3.2)\n",
            "Requirement already satisfied: idna<4,>=2.5 in /usr/local/lib/python3.10/dist-packages (from requests>=2.24.0->covalent) (3.6)\n",
            "Requirement already satisfied: certifi>=2017.4.17 in /usr/local/lib/python3.10/dist-packages (from requests>=2.24.0->covalent) (2024.2.2)\n",
            "Collecting markdown-it-py<3.0.0,>=2.2.0 (from rich<=13.3.5,>=12.0.0->covalent)\n",
            "  Downloading markdown_it_py-2.2.0-py3-none-any.whl (84 kB)\n",
            "\u001b[2K     \u001b[90m━━━━━━━━━━━━━━━━━━━━━━━━━━━━━━━━━━━━━━━━\u001b[0m \u001b[32m84.5/84.5 kB\u001b[0m \u001b[31m9.9 MB/s\u001b[0m eta \u001b[36m0:00:00\u001b[0m\n",
            "\u001b[?25hRequirement already satisfied: greenlet!=0.4.17 in /usr/local/lib/python3.10/dist-packages (from sqlalchemy<2.0.0,>=1.4.37->covalent) (3.0.3)\n",
            "Requirement already satisfied: MarkupSafe>=2.1.1 in /usr/local/lib/python3.10/dist-packages (from werkzeug>=2.0.3->covalent) (2.1.5)\n",
            "Requirement already satisfied: future>=0.15.2 in /usr/local/lib/python3.10/dist-packages (from autograd<=1.5->pennylane<0.33.0,>=0.31.1->covalent) (0.18.3)\n",
            "Requirement already satisfied: python-dateutil<3.0.0,>=2.1 in /usr/local/lib/python3.10/dist-packages (from botocore<1.35.0,>=1.34.54->boto3>=1.26.110->covalent) (2.8.2)\n",
            "Requirement already satisfied: zipp>=0.5 in /usr/local/lib/python3.10/dist-packages (from importlib-metadata>=4.13.0->dask[distributed]>=2022.6.0->covalent) (3.17.0)\n",
            "Requirement already satisfied: mdurl~=0.1 in /usr/local/lib/python3.10/dist-packages (from markdown-it-py<3.0.0,>=2.2.0->rich<=13.3.5,>=12.0.0->covalent) (0.1.2)\n",
            "INFO: pip is looking at multiple versions of pennylane-lightning to determine which version is compatible with other requirements. This could take a while.\n",
            "Collecting pennylane-lightning>=0.32 (from pennylane<0.33.0,>=0.31.1->covalent)\n",
            "  Downloading PennyLane_Lightning-0.33.1-cp310-cp310-manylinux_2_17_x86_64.manylinux2014_x86_64.whl (14.0 MB)\n",
            "\u001b[2K     \u001b[90m━━━━━━━━━━━━━━━━━━━━━━━━━━━━━━━━━━━━━━━━\u001b[0m \u001b[32m14.0/14.0 MB\u001b[0m \u001b[31m28.2 MB/s\u001b[0m eta \u001b[36m0:00:00\u001b[0m\n",
            "\u001b[?25hCollecting simple-websocket>=0.10.0 (from python-engineio>=4.8.0->python-socketio>=5.7.1->covalent)\n",
            "  Downloading simple_websocket-1.0.0-py3-none-any.whl (13 kB)\n",
            "Requirement already satisfied: anyio<5,>=3.4.0 in /usr/local/lib/python3.10/dist-packages (from starlette<0.37.0,>=0.36.3->fastapi>=0.100.0->covalent) (3.7.1)\n",
            "Requirement already satisfied: sniffio>=1.1 in /usr/local/lib/python3.10/dist-packages (from anyio<5,>=3.4.0->starlette<0.37.0,>=0.36.3->fastapi>=0.100.0->covalent) (1.3.1)\n",
            "Requirement already satisfied: exceptiongroup in /usr/local/lib/python3.10/dist-packages (from anyio<5,>=3.4.0->starlette<0.37.0,>=0.36.3->fastapi>=0.100.0->covalent) (1.2.0)\n",
            "Collecting wsproto (from simple-websocket>=0.10.0->python-engineio>=4.8.0->python-socketio>=5.7.1->covalent)\n",
            "  Downloading wsproto-1.2.0-py3-none-any.whl (24 kB)\n",
            "Building wheels for collected packages: covalent\n",
            "  Building wheel for covalent (pyproject.toml) ... \u001b[?25l\u001b[?25hdone\n",
            "  Created wheel for covalent: filename=covalent-0.232.0.post1-py3-none-any.whl size=4488594 sha256=a3308d47cc10ac63106208c5a16728a46bd32de88daffc077ca2f05f72fe29a0\n",
            "  Stored in directory: /root/.cache/pip/wheels/5f/1c/12/6b9c78b92143759103235818fa469791655d69931b4a1636f7\n",
            "Successfully built covalent\n",
            "Installing collected packages: lmdb, websockets, watchdog, uvloop, sqlalchemy, simplejson, semantic-version, python-multipart, python-dotenv, orjson, orderedmultidict, numpy, mpire, markdown-it-py, Mako, lmdbm, jmespath, httptools, h11, autoray, aiofiles, wsproto, watchfiles, uvicorn, starlette, sqlalchemy-utils, rustworkx, rich, furl, botocore, autograd, alembic, simple-websocket, s3transfer, fastapi, python-engineio, boto3, python-socketio, pennylane-lightning, pennylane, covalent\n",
            "  Attempting uninstall: sqlalchemy\n",
            "    Found existing installation: SQLAlchemy 2.0.27\n",
            "    Uninstalling SQLAlchemy-2.0.27:\n",
            "      Successfully uninstalled SQLAlchemy-2.0.27\n",
            "  Attempting uninstall: numpy\n",
            "    Found existing installation: numpy 1.25.2\n",
            "    Uninstalling numpy-1.25.2:\n",
            "      Successfully uninstalled numpy-1.25.2\n",
            "  Attempting uninstall: markdown-it-py\n",
            "    Found existing installation: markdown-it-py 3.0.0\n",
            "    Uninstalling markdown-it-py-3.0.0:\n",
            "      Successfully uninstalled markdown-it-py-3.0.0\n",
            "  Attempting uninstall: rich\n",
            "    Found existing installation: rich 13.7.0\n",
            "    Uninstalling rich-13.7.0:\n",
            "      Successfully uninstalled rich-13.7.0\n",
            "  Attempting uninstall: autograd\n",
            "    Found existing installation: autograd 1.6.2\n",
            "    Uninstalling autograd-1.6.2:\n",
            "      Successfully uninstalled autograd-1.6.2\n",
            "\u001b[31mERROR: pip's dependency resolver does not currently take into account all the packages that are installed. This behaviour is the source of the following dependency conflicts.\n",
            "chex 0.1.85 requires numpy>=1.24.1, but you have numpy 1.23.5 which is incompatible.\n",
            "ipython-sql 0.5.0 requires sqlalchemy>=2.0, but you have sqlalchemy 1.4.51 which is incompatible.\u001b[0m\u001b[31m\n",
            "\u001b[0mSuccessfully installed Mako-1.3.2 aiofiles-23.2.1 alembic-1.13.1 autograd-1.5 autoray-0.6.8 boto3-1.34.54 botocore-1.34.54 covalent-0.232.0.post1 fastapi-0.110.0 furl-2.1.3 h11-0.14.0 httptools-0.6.1 jmespath-1.0.1 lmdb-1.4.1 lmdbm-0.0.5 markdown-it-py-2.2.0 mpire-2.10.0 numpy-1.23.5 orderedmultidict-1.0.1 orjson-3.9.15 pennylane-0.32.0 pennylane-lightning-0.33.1 python-dotenv-1.0.1 python-engineio-4.9.0 python-multipart-0.0.9 python-socketio-5.11.1 rich-13.3.5 rustworkx-0.14.1 s3transfer-0.10.0 semantic-version-2.10.0 simple-websocket-1.0.0 simplejson-3.19.2 sqlalchemy-1.4.51 sqlalchemy-utils-0.41.1 starlette-0.36.3 uvicorn-0.18.3 uvloop-0.19.0 watchdog-4.0.0 watchfiles-0.21.0 websockets-12.0 wsproto-1.2.0\n"
          ]
        },
        {
          "output_type": "display_data",
          "data": {
            "application/vnd.colab-display-data+json": {
              "pip_warning": {
                "packages": [
                  "numpy"
                ]
              },
              "id": "e3aee91ff133461b8a202d97c2f8ccc1"
            }
          },
          "metadata": {}
        },
        {
          "output_type": "stream",
          "name": "stdout",
          "text": [
            "Requirement already satisfied: PennyLane in /usr/local/lib/python3.10/dist-packages (0.32.0)\n",
            "Requirement already satisfied: numpy<1.24 in /usr/local/lib/python3.10/dist-packages (from PennyLane) (1.23.5)\n",
            "Requirement already satisfied: scipy in /usr/local/lib/python3.10/dist-packages (from PennyLane) (1.11.4)\n",
            "Requirement already satisfied: networkx in /usr/local/lib/python3.10/dist-packages (from PennyLane) (3.2.1)\n",
            "Requirement already satisfied: rustworkx in /usr/local/lib/python3.10/dist-packages (from PennyLane) (0.14.1)\n",
            "Requirement already satisfied: autograd<=1.5 in /usr/local/lib/python3.10/dist-packages (from PennyLane) (1.5)\n",
            "Requirement already satisfied: toml in /usr/local/lib/python3.10/dist-packages (from PennyLane) (0.10.2)\n",
            "Requirement already satisfied: appdirs in /usr/local/lib/python3.10/dist-packages (from PennyLane) (1.4.4)\n",
            "Requirement already satisfied: semantic-version>=2.7 in /usr/local/lib/python3.10/dist-packages (from PennyLane) (2.10.0)\n",
            "Requirement already satisfied: autoray>=0.3.1 in /usr/local/lib/python3.10/dist-packages (from PennyLane) (0.6.8)\n",
            "Requirement already satisfied: cachetools in /usr/local/lib/python3.10/dist-packages (from PennyLane) (5.3.3)\n",
            "Requirement already satisfied: pennylane-lightning>=0.32 in /usr/local/lib/python3.10/dist-packages (from PennyLane) (0.33.1)\n",
            "Requirement already satisfied: requests in /usr/local/lib/python3.10/dist-packages (from PennyLane) (2.31.0)\n",
            "Requirement already satisfied: typing-extensions in /usr/local/lib/python3.10/dist-packages (from PennyLane) (4.10.0)\n",
            "Requirement already satisfied: future>=0.15.2 in /usr/local/lib/python3.10/dist-packages (from autograd<=1.5->PennyLane) (0.18.3)\n",
            "Requirement already satisfied: charset-normalizer<4,>=2 in /usr/local/lib/python3.10/dist-packages (from requests->PennyLane) (3.3.2)\n",
            "Requirement already satisfied: idna<4,>=2.5 in /usr/local/lib/python3.10/dist-packages (from requests->PennyLane) (3.6)\n",
            "Requirement already satisfied: urllib3<3,>=1.21.1 in /usr/local/lib/python3.10/dist-packages (from requests->PennyLane) (2.0.7)\n",
            "Requirement already satisfied: certifi>=2017.4.17 in /usr/local/lib/python3.10/dist-packages (from requests->PennyLane) (2024.2.2)\n"
          ]
        }
      ],
      "source": [
        "!pip install covalent\n",
        "!pip install PennyLane"
      ],
      "id": "962327e1"
    },
    {
      "cell_type": "code",
      "execution_count": null,
      "metadata": {
        "id": "AFgczN0wjUNl"
      },
      "outputs": [],
      "source": [
        "import covalent as ct\n",
        "import os\n",
        "import time\n",
        "\n",
        "# Set up Covalent server\n",
        "os.environ[\"COVALENT_SERVER_IFACE_ANY\"] = \"1\"\n",
        "os.system(\"covalent start\")\n",
        "# If you run into any out-of-memory issues with Dask when running this notebook,\n",
        "# Try reducing the number of workers and making a specific memory request. I.e.:\n",
        "# os.system(\"covalent start -m \"2GiB\" -n 2\")\n",
        "# try covalent –help for more info\n",
        "time.sleep(2)  # give the Dask cluster some time to launch"
      ],
      "id": "AFgczN0wjUNl"
    },
    {
      "cell_type": "code",
      "execution_count": null,
      "metadata": {
        "id": "28180d06",
        "colab": {
          "base_uri": "https://localhost:8080/"
        },
        "outputId": "543d9b38-f6a1-4bae-954e-e54a1c112cf3"
      },
      "outputs": [
        {
          "output_type": "stream",
          "name": "stderr",
          "text": [
            "/usr/local/lib/python3.10/dist-packages/torch/__init__.py:614: UserWarning: torch.set_default_tensor_type() is deprecated as of PyTorch 2.1, please use torch.set_default_dtype() and torch.set_default_device() as alternatives. (Triggered internally at ../torch/csrc/tensor/python_tensor.cpp:451.)\n",
            "  _C._set_default_tensor_type(t)\n"
          ]
        }
      ],
      "source": [
        "import torch\n",
        "import scipy.io\n",
        "\n",
        "# Seed Torch for reproducibility and set default tensor type\n",
        "GLOBAL_SEED = 1989\n",
        "torch.manual_seed(GLOBAL_SEED)\n",
        "torch.set_default_tensor_type(torch.DoubleTensor)\n",
        "\n",
        "mat = scipy.io.loadmat('features_KW51_sensor4_d0.mat')\n",
        "X_all = torch.from_numpy(mat['features_data'])\n",
        "# Shuffle the tensor\n",
        "indexes = torch.randperm(X_all.shape[0])\n",
        "X_all = X_all[indexes]\n",
        "\n",
        "mat_anorm = scipy.io.loadmat('features_KW51_sensor4_d2.mat')\n",
        "Y_all = torch.from_numpy(mat_anorm['features_data'])\n",
        "indexes = torch.randperm(Y_all.shape[0])\n",
        "Y_all = Y_all[indexes]\n",
        "\n",
        "@ct.electron\n",
        "def generate_normal_time_series_set(\n",
        "    split_data: int, X_all: float, p: int, num_series: int, noise_amp: float, t_init: float, t_end: float, seed: int = GLOBAL_SEED\n",
        ") -> tuple:\n",
        "    \"\"\"Generate a normal time series data set where each of the p elements\n",
        "    is drawn from a normal distribution x_t ~ N(0, noise_amp).\n",
        "    \"\"\"\n",
        "    torch.manual_seed(seed)\n",
        "\n",
        "    if split_data == 1:    #Split data for train\n",
        "     X=X_all[0:50,:]\n",
        "    elif split_data == 2:  #Split data for threshold optimization\n",
        "     X=X_all[0:50,:]\n",
        "    else:                  #Split data for test\n",
        "     X=X_all[50:100,:]\n",
        "\n",
        "    T = torch.linspace(0, 1, 11)\n",
        "    return X, T\n",
        "\n",
        "\n",
        "@ct.electron\n",
        "def generate_anomalous_time_series_set(\n",
        "    split_data: int,\n",
        "    Y_all: float,\n",
        "    p: int,\n",
        "    num_series: int,\n",
        "    noise_amp: float,\n",
        "    spike_amp: float,\n",
        "    max_duration: int,\n",
        "    t_init: float,\n",
        "    t_end: float,\n",
        "    seed: int = GLOBAL_SEED,\n",
        ") -> tuple:\n",
        "    \"\"\"Generate an anomalous time series data set where the p elements of each sequence are\n",
        "    from a normal distribution x_t ~ N(0, noise_amp). Then,\n",
        "    anomalous spikes of random amplitudes and durations are inserted.\n",
        "    \"\"\"\n",
        "    torch.manual_seed(seed)\n",
        "    if split_data == 1:\n",
        "     Y=Y_all[0:50,:]\n",
        "    elif split_data == 2:\n",
        "     Y=Y_all[0:50,:]\n",
        "    else:\n",
        "     Y=Y_all[50:100,:]\n",
        "    T = torch.linspace(0, 1, 11)\n",
        "    return Y, T"
      ],
      "id": "28180d06"
    },
    {
      "cell_type": "code",
      "execution_count": null,
      "metadata": {
        "id": "b4047061",
        "colab": {
          "base_uri": "https://localhost:8080/",
          "height": 449
        },
        "outputId": "b49972c4-72ec-4c6d-c7af-13d2ad5618b3"
      },
      "outputs": [
        {
          "output_type": "display_data",
          "data": {
            "text/plain": [
              "<Figure size 640x480 with 1 Axes>"
            ],
            "image/png": "[encoded data removed]"
          },
          "metadata": {}
        }
      ],
      "source": [
        "import matplotlib.pyplot as plt\n",
        "\n",
        "X_norm, T_norm = generate_normal_time_series_set(1,X_all, 25, 25, 0.1, 0.1, 2 * torch.pi)\n",
        "Y_anom, T_anom = generate_anomalous_time_series_set(1,Y_all, 25, 25, 0.1, 0.4, 5, 0, 2 * torch.pi)\n",
        "\n",
        "plt.figure()\n",
        "plt.plot(T_norm, X_norm[0], label=\"Normal\")\n",
        "plt.plot(T_anom, Y_anom[0], label=\"Anomalous\")\n",
        "plt.ylabel(\"$y(t)$\")\n",
        "plt.xlabel(\"t\")\n",
        "plt.grid()\n",
        "leg = plt.legend()"
      ],
      "id": "b4047061"
    },
    {
      "cell_type": "code",
      "execution_count": null,
      "metadata": {
        "id": "3e66cc40"
      },
      "outputs": [],
      "source": [
        "@ct.electron\n",
        "def make_atomized_training_set(X: torch.Tensor, T: torch.Tensor) -> list:\n",
        "    \"\"\"Convert input time series data provided in a two-dimensional tensor format\n",
        "    to atomized tuple chunks: (xt, t).\n",
        "    \"\"\"\n",
        "    X_flat = torch.flatten(X)\n",
        "    T_flat = T.repeat(X.size()[0])\n",
        "    atomized = [(xt, t) for xt, t in zip(X_flat, T_flat)]\n",
        "    return atomized"
      ],
      "id": "3e66cc40"
    },
    {
      "cell_type": "code",
      "execution_count": null,
      "metadata": {
        "id": "1ae9f25c"
      },
      "outputs": [],
      "source": [
        "from collections.abc import Iterator\n",
        "\n",
        "\n",
        "class DataGetter:\n",
        "    \"\"\"A pickleable mock-up of a Python iterator on a torch.utils.Dataloader.\n",
        "    Provide a dataset X and the resulting object O will allow you to use next(O).\n",
        "    \"\"\"\n",
        "\n",
        "    def __init__(self, X: torch.Tensor, batch_size: int, seed: int = GLOBAL_SEED) -> None:\n",
        "        \"\"\"Calls the _init_data method on intialization of a DataGetter object.\"\"\"\n",
        "        torch.manual_seed(seed)\n",
        "        self.X = X\n",
        "        self.batch_size = batch_size\n",
        "        self.data = []\n",
        "        self._init_data(\n",
        "            iter(torch.utils.data.DataLoader(self.X, batch_size=self.batch_size, shuffle=True))\n",
        "        )\n",
        "\n",
        "    def _init_data(self, iterator: Iterator) -> None:\n",
        "        \"\"\"Load all of the iterator into a list.\"\"\"\n",
        "        x = next(iterator, None)\n",
        "        while x is not None:\n",
        "            self.data.append(x)\n",
        "            x = next(iterator, None)\n",
        "\n",
        "    def __next__(self) -> tuple:\n",
        "        \"\"\"Analogous behaviour to the native Python next() but calling the\n",
        "        .pop() of the data attribute.\n",
        "        \"\"\"\n",
        "        try:\n",
        "            return self.data.pop()\n",
        "        except IndexError:  # Caught when the data set runs out of elements\n",
        "            self._init_data(\n",
        "                iter(torch.utils.data.DataLoader(self.X, batch_size=self.batch_size, shuffle=True))\n",
        "            )\n",
        "            return self.data.pop()"
      ],
      "id": "1ae9f25c"
    },
    {
      "cell_type": "code",
      "execution_count": null,
      "metadata": {
        "id": "53a3686f"
      },
      "outputs": [],
      "source": [
        "@ct.electron\n",
        "def get_training_cycler(Xtr: torch.Tensor, batch_size: int, seed: int = GLOBAL_SEED) -> DataGetter:\n",
        "    \"\"\"Get an instance of the DataGetter class defined above, which behaves analogously to\n",
        "    next(iterator) but is pickleable.\n",
        "    \"\"\"\n",
        "    return DataGetter(Xtr, batch_size, seed)"
      ],
      "id": "53a3686f"
    },
    {
      "cell_type": "code",
      "execution_count": null,
      "metadata": {
        "id": "032b96f6"
      },
      "outputs": [],
      "source": [
        "import pennylane as qml\n",
        "from itertools import combinations\n",
        "\n",
        "\n",
        "@ct.electron\n",
        "def D(gamma: torch.Tensor, n_qubits: int, k: int = None, get_probs: bool = False) -> None:\n",
        "    \"\"\"Generates an n_qubit quantum circuit according to a k-local Walsh operator\n",
        "    expansion. Here, k-local means that 1 <= k <= n of the n qubits can interact.\n",
        "    See <https://doi.org/10.1088/1367-2630/16/3/033040> for more\n",
        "    details. Optionally return probabilities of bit strings.\n",
        "    \"\"\"\n",
        "    if k is None:\n",
        "        k = n_qubits\n",
        "    cnt = 0\n",
        "    for i in range(1, k + 1):\n",
        "        for comb in combinations(range(n_qubits), i):\n",
        "            if len(comb) == 1:\n",
        "                qml.RZ(gamma[cnt], wires=[comb[0]])\n",
        "                cnt += 1\n",
        "            elif len(comb) > 1:\n",
        "                cnots = [comb[i : i + 2] for i in range(len(comb) - 1)]\n",
        "                for j in cnots:\n",
        "                    qml.CNOT(wires=j)\n",
        "                qml.RZ(gamma[cnt], wires=[comb[-1]])\n",
        "                cnt += 1\n",
        "                for j in cnots[::-1]:\n",
        "                    qml.CNOT(wires=j)\n",
        "    if get_probs:\n",
        "        return qml.probs(wires=range(n_qubits))"
      ],
      "id": "032b96f6"
    },
    {
      "cell_type": "code",
      "execution_count": null,
      "metadata": {
        "id": "e8ef0aae",
        "colab": {
          "base_uri": "https://localhost:8080/",
          "height": 237
        },
        "outputId": "5e1565ee-314a-48aa-d954-55eab45f6cef"
      },
      "outputs": [
        {
          "output_type": "display_data",
          "data": {
            "text/plain": [
              "<Figure size 400x200 with 1 Axes>"
            ],
            "image/png": "[encoded data removed]"
          },
          "metadata": {}
        }
      ],
      "source": [
        "n_qubits = 2\n",
        "dev = qml.device(\"default.qubit\", wires=n_qubits, shots=None)\n",
        "D_one_qubit = qml.qnode(dev)(D)\n",
        "_ = qml.draw_mpl(D_one_qubit, decimals=2)(torch.tensor([1, 0]), 1, 1, True)"
      ],
      "id": "e8ef0aae"
    },
    {
      "cell_type": "code",
      "execution_count": null,
      "metadata": {
        "id": "aa1c2859"
      },
      "outputs": [],
      "source": [
        "@ct.electron\n",
        "@qml.qnode(dev, interface=\"torch\", diff_method=\"backprop\")\n",
        "def get_probs(\n",
        "    xt: torch.Tensor,\n",
        "    t: float,\n",
        "    alpha: torch.Tensor,\n",
        "    gamma: torch.Tensor,\n",
        "    k: int,\n",
        "    U: callable,\n",
        "    W: callable,\n",
        "    D: callable,\n",
        "    n_qubits: int,\n",
        ") -> torch.Tensor:\n",
        "    \"\"\"Measure the probabilities for measuring each bitstring after applying a\n",
        "    circuit of the form W†DWU to the |0⟩^(⊗n) state. This\n",
        "    function is defined for individual sequence elements xt.\n",
        "    \"\"\"\n",
        "    U(xt, wires=range(n_qubits))\n",
        "    W(alpha, wires=range(n_qubits))\n",
        "    D(gamma * t, n_qubits, k)\n",
        "    qml.adjoint(W)(alpha, wires=range(n_qubits))\n",
        "    return qml.probs(range(n_qubits))"
      ],
      "id": "aa1c2859"
    },
    {
      "cell_type": "code",
      "execution_count": null,
      "metadata": {
        "id": "97f9f13f"
      },
      "outputs": [],
      "source": [
        "@ct.electron\n",
        "def get_callable_projector_func(\n",
        "    k: int, U: callable, W: callable, D: callable, n_qubits: int, probs_func: callable\n",
        ") -> callable:\n",
        "    \"\"\"Using get_probs() above, take only the probability of measuring the\n",
        "    bitstring of all zeroes (i.e, take the projector\n",
        "    |0⟩^(⊗n)⟨0|^(⊗n)) on the time devolved state.\n",
        "    \"\"\"\n",
        "    callable_proj = lambda xt, t, alpha, gamma: probs_func(\n",
        "        xt, t, alpha, gamma, k, U, W, D, n_qubits\n",
        "    )[0]\n",
        "    return callable_proj"
      ],
      "id": "97f9f13f"
    },
    {
      "cell_type": "code",
      "execution_count": null,
      "metadata": {
        "id": "a46c0b52"
      },
      "outputs": [],
      "source": [
        "@ct.electron\n",
        "def F(\n",
        "    callable_proj: callable,\n",
        "    xt: torch.Tensor,\n",
        "    t: float,\n",
        "    alpha: torch.Tensor,\n",
        "    mu: torch.Tensor,\n",
        "    sigma: torch.Tensor,\n",
        "    gamma_length: int,\n",
        "    n_samples: int,\n",
        ") -> torch.Tensor:\n",
        "    \"\"\"Take the classical expecation value of of the projector on zero sampling\n",
        "    the parameters of D from normal distributions. The expecation value is estimated\n",
        "    with an average over n_samples.\n",
        "    \"\"\"\n",
        "    # length of gamma should not exceed 2^n - 1\n",
        "    gammas = sigma.abs() * torch.randn((n_samples, gamma_length)) + mu\n",
        "    expectation = torch.empty(n_samples)\n",
        "    for i, gamma in enumerate(gammas):\n",
        "        expectation[i] = callable_proj(xt, t, alpha, gamma)\n",
        "    return expectation.mean()"
      ],
      "id": "a46c0b52"
    },
    {
      "cell_type": "code",
      "execution_count": null,
      "metadata": {
        "id": "9b492d5b"
      },
      "outputs": [],
      "source": [
        "@ct.electron\n",
        "def callable_arctan_penalty(tau: float) -> callable:\n",
        "    \"\"\"Create a callable arctan function with a single hyperparameter\n",
        "    tau to penalize large entries of sigma.\n",
        "    \"\"\"\n",
        "    prefac = 1 / (torch.pi)\n",
        "    callable_pen = lambda sigma: prefac * torch.arctan(2 * torch.pi * tau * sigma.abs()).mean()\n",
        "    return callable_pen"
      ],
      "id": "9b492d5b"
    },
    {
      "cell_type": "code",
      "execution_count": null,
      "metadata": {
        "id": "fb4de5dc"
      },
      "outputs": [],
      "source": [
        "@ct.electron\n",
        "def get_loss(\n",
        "    callable_proj: callable,\n",
        "    batch: torch.Tensor,\n",
        "    alpha: torch.Tensor,\n",
        "    mu: torch.Tensor,\n",
        "    sigma: torch.Tensor,\n",
        "    gamma_length: int,\n",
        "    n_samples: int,\n",
        "    callable_penalty: callable,\n",
        ") -> torch.Tensor:\n",
        "    \"\"\"Evaluate the loss function ℒ, defined in the background section\n",
        "    for a certain set of parameters.\n",
        "    \"\"\"\n",
        "    X_batch, T_batch = batch\n",
        "    loss = torch.empty(X_batch.size()[0])\n",
        "    for i in range(X_batch.size()[0]):\n",
        "        # unsqueeze required for tensor to have the correct dimension for PennyLane templates\n",
        "        loss[i] = (\n",
        "            1\n",
        "            - F(\n",
        "                callable_proj,\n",
        "                X_batch[i].unsqueeze(0),\n",
        "                T_batch[i].unsqueeze(0),\n",
        "                alpha,\n",
        "                mu,\n",
        "                sigma,\n",
        "                gamma_length,\n",
        "                n_samples,\n",
        "            )\n",
        "        ).square()\n",
        "    return 0.5 * loss.mean() + callable_penalty(sigma)"
      ],
      "id": "fb4de5dc"
    },
    {
      "cell_type": "code",
      "execution_count": null,
      "metadata": {
        "id": "d179a48f"
      },
      "outputs": [],
      "source": [
        "@ct.electron\n",
        "def get_initial_parameters(\n",
        "    W: callable, W_layers: int, n_qubits: int, seed: int = GLOBAL_SEED\n",
        ") -> dict:\n",
        "    \"\"\"Randomly generate initial parameters. We need initial parameters for the\n",
        "    variational circuit ansatz implementing W(alpha) and the standard deviation\n",
        "    and mean (sigma and mu) for the normal distribution we sample gamma from.\n",
        "    \"\"\"\n",
        "    torch.manual_seed(seed)\n",
        "    init_alpha = torch.rand(W.shape(W_layers, n_qubits))\n",
        "    init_mu = torch.rand(1)\n",
        "    # Best to start sigma small and expand if needed\n",
        "    init_sigma = torch.rand(1)\n",
        "    init_params = {\n",
        "        \"alpha\": (2 * torch.pi * init_alpha).clone().detach().requires_grad_(True),\n",
        "        \"mu\": (2 * torch.pi * init_mu).clone().detach().requires_grad_(True),\n",
        "        \"sigma\": (0.1 * init_sigma + 0.05).clone().detach().requires_grad_(True),\n",
        "    }\n",
        "    return init_params"
      ],
      "id": "d179a48f"
    },
    {
      "cell_type": "code",
      "execution_count": null,
      "metadata": {
        "id": "9f51d18d"
      },
      "outputs": [],
      "source": [
        "@ct.electron\n",
        "def train_model_gradients(\n",
        "    lr: float,\n",
        "    init_params: dict,\n",
        "    pytorch_optimizer: callable,\n",
        "    cycler: DataGetter,\n",
        "    n_samples: int,\n",
        "    callable_penalty: callable,\n",
        "    batch_iterations: int,\n",
        "    callable_proj: callable,\n",
        "    gamma_length: int,\n",
        "    seed=GLOBAL_SEED,\n",
        "    print_intermediate=False,\n",
        ") -> dict:\n",
        "    \"\"\"Train the QVR model (minimize the loss function) with respect to the\n",
        "    variational parameters using gradient-based training. You need to pass a\n",
        "    PyTorch optimizer and a learning rate (lr).\n",
        "    \"\"\"\n",
        "    torch.manual_seed(seed)\n",
        "    opt = pytorch_optimizer(init_params.values(), lr=lr)\n",
        "    alpha = init_params[\"alpha\"]\n",
        "    mu = init_params[\"mu\"]\n",
        "    sigma = init_params[\"sigma\"]\n",
        "\n",
        "    def closure():\n",
        "        opt.zero_grad()\n",
        "        loss = get_loss(\n",
        "            callable_proj, next(cycler), alpha, mu, sigma, gamma_length, n_samples, callable_penalty\n",
        "        )\n",
        "        loss.backward()\n",
        "        return loss\n",
        "\n",
        "    loss_history = []\n",
        "    for i in range(batch_iterations):\n",
        "        loss = opt.step(closure)\n",
        "        loss_history.append(loss.item())\n",
        "        if batch_iterations % 10 == 0 and print_intermediate:\n",
        "            print(f\"Iteration number {i}\\n Current loss {loss.item()}\\n\")\n",
        "\n",
        "    results_dict = {\n",
        "        \"opt_params\": {\n",
        "            \"alpha\": opt.param_groups[0][\"params\"][0],\n",
        "            \"mu\": opt.param_groups[0][\"params\"][1],\n",
        "            \"sigma\": opt.param_groups[0][\"params\"][2],\n",
        "        },\n",
        "        \"loss_history\": loss_history,\n",
        "    }\n",
        "    return results_dict"
      ],
      "id": "9f51d18d"
    },
    {
      "cell_type": "code",
      "execution_count": null,
      "metadata": {
        "id": "f9c70834"
      },
      "outputs": [],
      "source": [
        "@ct.lattice\n",
        "def training_workflow(\n",
        "    U: callable,\n",
        "    W: callable,\n",
        "    D: callable,\n",
        "    n_qubits: int,\n",
        "    k: int,\n",
        "    probs_func: callable,\n",
        "    W_layers: int,\n",
        "    gamma_length: int,\n",
        "    n_samples: int,\n",
        "    split_data: int,\n",
        "    X_all: float,\n",
        "    p: int,\n",
        "    num_series: int,\n",
        "    noise_amp: float,\n",
        "    t_init: float,\n",
        "    t_end: float,\n",
        "    batch_size: int,\n",
        "    tau: float,\n",
        "    pytorch_optimizer: callable,\n",
        "    lr: float,\n",
        "    batch_iterations: int,\n",
        "):\n",
        "    \"\"\"\n",
        "    Combine all of the previously defined electrons to do an entire training workflow,\n",
        "    including (1) generating synthetic data, (2) packaging it into training cyclers\n",
        "    (3) preparing the quantum functions and (4) optimizing the loss function with\n",
        "    gradient based optimization. You can find definitions for all of the arguments\n",
        "    by looking at the electrons and text cells above.\n",
        "    \"\"\"\n",
        "\n",
        "    X, T = generate_normal_time_series_set(split_data,X_all, p, num_series, noise_amp, t_init, t_end)\n",
        "    Xtr = make_atomized_training_set(X, T)\n",
        "    cycler = get_training_cycler(Xtr, batch_size)\n",
        "    init_params = get_initial_parameters(W, W_layers, n_qubits)\n",
        "    callable_penalty = callable_arctan_penalty(tau)\n",
        "    callable_proj = get_callable_projector_func(k, U, W, D, n_qubits, probs_func)\n",
        "    results_dict = train_model_gradients(\n",
        "        lr,\n",
        "        init_params,\n",
        "        pytorch_optimizer,\n",
        "        cycler,\n",
        "        n_samples,\n",
        "        callable_penalty,\n",
        "        batch_iterations,\n",
        "        callable_proj,\n",
        "        gamma_length,\n",
        "        print_intermediate=False,\n",
        "    )\n",
        "    return results_dict"
      ],
      "id": "f9c70834"
    },
    {
      "cell_type": "code",
      "execution_count": null,
      "metadata": {
        "id": "5c4a9f86"
      },
      "outputs": [],
      "source": [
        "general_options = {\n",
        "    \"U\": qml.AngleEmbedding,\n",
        "    \"W\": qml.StronglyEntanglingLayers,\n",
        "    \"D\": D,\n",
        "    \"n_qubits\": 2,\n",
        "    \"probs_func\": get_probs,\n",
        "    \"gamma_length\": 3,\n",
        "    \"n_samples\": 10,\n",
        "    \"p\": 22,\n",
        "    \"num_series\": 25,\n",
        "    \"noise_amp\": 0.1,\n",
        "    \"t_init\": 0.1,\n",
        "    \"t_end\": 2 * torch.pi,\n",
        "    \"k\": 2,\n",
        "}\n",
        "\n",
        "training_options = {\n",
        "    \"batch_size\": 10,\n",
        "    \"tau\": 5,\n",
        "    \"split_data\": 1, #training data\n",
        "    \"X_all\": X_all,\n",
        "    \"pytorch_optimizer\": torch.optim.Adam,\n",
        "    \"lr\": 0.01,\n",
        "    \"batch_iterations\": 1000,\n",
        "    \"W_layers\": 2,\n",
        "}\n",
        "\n",
        "training_options.update(general_options)"
      ],
      "id": "5c4a9f86"
    },
    {
      "cell_type": "code",
      "execution_count": null,
      "metadata": {
        "id": "c664a977"
      },
      "outputs": [],
      "source": [
        "tr_dispatch_id = ct.dispatch(training_workflow)(**training_options)"
      ],
      "id": "c664a977"
    },
    {
      "cell_type": "code",
      "execution_count": null,
      "metadata": {
        "id": "wz8o3sWrxAsv",
        "colab": {
          "base_uri": "https://localhost:8080/"
        },
        "outputId": "683f76ea-a9c8-4afa-ef6f-b9b24aa71f95"
      },
      "outputs": [
        {
          "output_type": "stream",
          "name": "stdout",
          "text": [
            "1000\n"
          ]
        }
      ],
      "source": [
        "import sys\n",
        "print(sys.getrecursionlimit())\n",
        "sys.setrecursionlimit(10000)"
      ],
      "id": "wz8o3sWrxAsv"
    },
    {
      "cell_type": "code",
      "execution_count": null,
      "metadata": {
        "id": "2beab384"
      },
      "outputs": [],
      "source": [
        "ct_tr_results = ct.get_result(dispatch_id=tr_dispatch_id, wait=True)\n",
        "results_dict = ct_tr_results.result"
      ],
      "id": "2beab384"
    },
    {
      "cell_type": "code",
      "execution_count": null,
      "metadata": {
        "id": "41414fcb",
        "colab": {
          "base_uri": "https://localhost:8080/",
          "height": 472
        },
        "outputId": "cbfddfa6-7c4e-4b06-8248-abe5a12955c1"
      },
      "outputs": [
        {
          "output_type": "display_data",
          "data": {
            "text/plain": [
              "<Figure size 640x480 with 1 Axes>"
            ],
            "image/png": "[encoded data removed]"
          },
          "metadata": {}
        }
      ],
      "source": [
        "plt.figure()\n",
        "plt.plot(results_dict[\"loss_history\"], \".-\")\n",
        "plt.ylabel(\"Loss [$\\mathcal{L}$]\")\n",
        "plt.xlabel(\"Batch iterations\")\n",
        "plt.title(\"Loss function versus batch iterations in training\")\n",
        "plt.grid()"
      ],
      "id": "41414fcb"
    },
    {
      "cell_type": "code",
      "execution_count": null,
      "metadata": {
        "id": "0b3c064a"
      },
      "outputs": [],
      "source": [
        "@ct.electron\n",
        "def get_preds_given_threshold(zeta: float, scores: torch.Tensor) -> torch.Tensor:\n",
        "    \"\"\"For a given threshold, get the predicted labels (1 or -1), given the anomaly scores.\"\"\"\n",
        "    return torch.tensor([-1 if score > zeta else 1 for score in scores])\n",
        "\n",
        "\n",
        "@ct.electron\n",
        "def get_truth_labels(\n",
        "    normal_series_set: torch.Tensor, anomalous_series_set: torch.Tensor\n",
        ") -> torch.Tensor:\n",
        "    \"\"\"Get a 1D tensor containing the truth values (1 or -1) for a given set of\n",
        "    time series.\n",
        "    \"\"\"\n",
        "    norm = torch.ones(normal_series_set.size()[0])\n",
        "    anom = -torch.ones(anomalous_series_set.size()[0])\n",
        "    return torch.cat([norm, anom])\n",
        "\n",
        "\n",
        "@ct.electron\n",
        "def get_accuracy_score(pred: torch.Tensor, truth: torch.Tensor) -> torch.Tensor:\n",
        "    \"\"\"Given the predictions and truth values, return a number between 0 and 1\n",
        "    indicating the accuracy of predictions.\n",
        "    \"\"\"\n",
        "    return torch.sum(pred == truth) / truth.size()[0]"
      ],
      "id": "0b3c064a"
    },
    {
      "cell_type": "code",
      "execution_count": null,
      "metadata": {
        "id": "d6821c61"
      },
      "outputs": [],
      "source": [
        "@ct.electron\n",
        "def threshold_scan_acc_score(\n",
        "    scores: torch.Tensor, truth_labels: torch.Tensor, zeta_min: float, zeta_max: float, steps: int\n",
        ") -> torch.Tensor:\n",
        "    \"\"\"Given the anomaly scores and truth values,\n",
        "    scan over a range of thresholds = [zeta_min, zeta_max] with a\n",
        "    fixed number of steps, calculating the accuracy score at each point.\n",
        "    \"\"\"\n",
        "    accs = torch.empty(steps)\n",
        "    for i, zeta in enumerate(torch.linspace(zeta_min, zeta_max, steps)):\n",
        "        preds = get_preds_given_threshold(zeta, scores)\n",
        "        accs[i] = get_accuracy_score(preds, truth_labels)\n",
        "    return accs\n",
        "\n",
        "\n",
        "@ct.electron\n",
        "def get_anomaly_score(\n",
        "    callable_proj: callable,\n",
        "    y: torch.Tensor,\n",
        "    T: torch.Tensor,\n",
        "    alpha_star: torch.Tensor,\n",
        "    mu_star: torch.Tensor,\n",
        "    sigma_star: torch.Tensor,\n",
        "    gamma_length: int,\n",
        "    n_samples: int,\n",
        "    get_time_resolved: bool = False,\n",
        "):\n",
        "    \"\"\"Get the anomaly score for an input time series y. We need to pass the\n",
        "    optimal parameters (arguments with suffix _star). Optionally return the\n",
        "    time-resolved score (the anomaly score contribution at a given t).\n",
        "    \"\"\"\n",
        "    scores = torch.empty(T.size()[0])\n",
        "    for i in range(T.size()[0]):\n",
        "        scores[i] = (\n",
        "            1\n",
        "            - F(\n",
        "                callable_proj,\n",
        "                y[i].unsqueeze(0),\n",
        "                T[i].unsqueeze(0),\n",
        "                alpha_star,\n",
        "                mu_star,\n",
        "                sigma_star,\n",
        "                gamma_length,\n",
        "                n_samples,\n",
        "            )\n",
        "        ).square()\n",
        "    if get_time_resolved:\n",
        "        return scores, scores.mean()\n",
        "    else:\n",
        "        return scores.mean()\n",
        "\n",
        "\n",
        "@ct.electron\n",
        "def get_norm_and_anom_scores(\n",
        "    X_norm: torch.Tensor,\n",
        "    X_anom: torch.Tensor,\n",
        "    T: torch.Tensor,\n",
        "    callable_proj: callable,\n",
        "    model_params: dict,\n",
        "    gamma_length: int,\n",
        "    n_samples: int,\n",
        ") -> torch.Tensor:\n",
        "    \"\"\"Get the anomaly scores assigned to input normal and anomalous time series instances.\n",
        "    model_params is a dictionary containing the optimal model parameters.\n",
        "    \"\"\"\n",
        "    alpha = model_params[\"alpha\"]\n",
        "    mu = model_params[\"mu\"]\n",
        "    sigma = model_params[\"sigma\"]\n",
        "    norm_scores = torch.tensor(\n",
        "        [\n",
        "            get_anomaly_score(callable_proj, xt, T, alpha, mu, sigma, gamma_length, n_samples)\n",
        "            for xt in X_norm\n",
        "        ]\n",
        "    )\n",
        "    anom_scores = torch.tensor(\n",
        "        [\n",
        "            get_anomaly_score(callable_proj, xt, T, alpha, mu, sigma, gamma_length, n_samples)\n",
        "            for xt in X_anom\n",
        "        ]\n",
        "    )\n",
        "    return torch.cat([norm_scores, anom_scores])"
      ],
      "id": "d6821c61"
    },
    {
      "cell_type": "code",
      "execution_count": null,
      "metadata": {
        "id": "c63aa261"
      },
      "outputs": [],
      "source": [
        "@ct.lattice\n",
        "def threshold_tuning_workflow(\n",
        "    opt_params: dict,\n",
        "    gamma_length: int,\n",
        "    n_samples: int,\n",
        "    probs_func: callable,\n",
        "    zeta_min: float,\n",
        "    zeta_max: float,\n",
        "    steps: int,\n",
        "    split_data: int,\n",
        "    X_all: float,\n",
        "    Y_all: float,\n",
        "    p: int,\n",
        "    num_series: int,\n",
        "    noise_amp: float,\n",
        "    spike_amp: float,\n",
        "    max_duration: int,\n",
        "    t_init: float,\n",
        "    t_end: float,\n",
        "    k: int,\n",
        "    U: callable,\n",
        "    W: callable,\n",
        "    D: callable,\n",
        "    n_qubits: int,\n",
        "    random_model_seeds: torch.Tensor,\n",
        "    W_layers: int,\n",
        ") -> tuple:\n",
        "    \"\"\"A workflow for tuning the threshold value zeta, in order to maximize the accuracy score\n",
        "    for a validation data set. Results are tested against random models at their optimal zetas.\n",
        "    \"\"\"\n",
        "    # Generate datasets\n",
        "    X_val_norm, T = generate_normal_time_series_set(split_data, X_all, p, num_series, noise_amp, t_init, t_end)\n",
        "    X_val_anom, T = generate_anomalous_time_series_set(\n",
        "        2, Y_all, p, num_series, noise_amp, spike_amp, max_duration, t_init, t_end\n",
        "    )\n",
        "    truth_labels = get_truth_labels(X_val_norm, X_val_anom)\n",
        "\n",
        "    # Initialize quantum functions\n",
        "    callable_proj = get_callable_projector_func(k, U, W, D, n_qubits, probs_func)\n",
        "\n",
        "    accs_list = []\n",
        "    scores_list = []\n",
        "    # Evaluate optimal model\n",
        "    scores = get_norm_and_anom_scores(\n",
        "        X_val_norm, X_val_anom, T, callable_proj, opt_params, gamma_length, n_samples\n",
        "    )\n",
        "    accs_opt = threshold_scan_acc_score(scores, truth_labels, zeta_min, zeta_max, steps)\n",
        "    accs_list.append(accs_opt)\n",
        "    scores_list.append(scores)\n",
        "\n",
        "    # Evaluate random models\n",
        "    for seed in random_model_seeds:\n",
        "        rand_params = get_initial_parameters(W, W_layers, n_qubits, seed)\n",
        "        scores = get_norm_and_anom_scores(\n",
        "            X_val_norm, X_val_anom, T, callable_proj, rand_params, gamma_length, n_samples\n",
        "        )\n",
        "        accs_list.append(threshold_scan_acc_score(scores, truth_labels, zeta_min, zeta_max, steps))\n",
        "        scores_list.append(scores)\n",
        "    return accs_list, scores_list"
      ],
      "id": "c63aa261"
    },
    {
      "cell_type": "code",
      "execution_count": null,
      "metadata": {
        "id": "b8959aa1"
      },
      "outputs": [],
      "source": [
        "threshold_tuning_options = {\n",
        "    \"spike_amp\": 0.4,\n",
        "    \"max_duration\": 5,\n",
        "    \"zeta_min\": 0,\n",
        "    \"zeta_max\": 1,\n",
        "    \"split_data\": 2, #theshhold tunning data\n",
        "    \"X_all\": X_all,\n",
        "    \"Y_all\": Y_all,\n",
        "    \"steps\": 100000,\n",
        "    \"random_model_seeds\": [0, 1],\n",
        "    \"W_layers\": 2,\n",
        "    \"opt_params\": results_dict[\"opt_params\"],\n",
        "}\n",
        "\n",
        "threshold_tuning_options.update(general_options)"
      ],
      "id": "b8959aa1"
    },
    {
      "cell_type": "code",
      "execution_count": null,
      "metadata": {
        "id": "4241d968"
      },
      "outputs": [],
      "source": [
        "val_dispatch_id = ct.dispatch(threshold_tuning_workflow)(**threshold_tuning_options)\n",
        "ct_val_results = ct.get_result(dispatch_id=val_dispatch_id, wait=True)\n",
        "accs_list, scores_list = ct_val_results.result"
      ],
      "id": "4241d968"
    },
    {
      "cell_type": "code",
      "execution_count": null,
      "metadata": {
        "id": "67941451",
        "colab": {
          "base_uri": "https://localhost:8080/",
          "height": 486
        },
        "outputId": "7cc80c58-7f64-41c1-acaf-fe2f23224439"
      },
      "outputs": [
        {
          "output_type": "display_data",
          "data": {
            "text/plain": [
              "<Figure size 640x480 with 6 Axes>"
            ],
            "image/png": "[encoded data removed]"
          },
          "metadata": {}
        }
      ],
      "source": [
        "#zeta_xlims = [(0, 0.001), (0.25, 0.38), (0.25, 0.38)]\n",
        "zeta_xlims = [(0, 1), (0, 1), (0, 1)]\n",
        "titles = [\"Trained model\", \"Random model 1\", \"Random model 2\"]\n",
        "zetas = torch.linspace(\n",
        "    threshold_tuning_options[\"zeta_min\"],\n",
        "    threshold_tuning_options[\"zeta_max\"],\n",
        "    threshold_tuning_options[\"steps\"],\n",
        ")\n",
        "fig, axs = plt.subplots(ncols=3, nrows=2, sharey=\"row\")\n",
        "for i in range(3):\n",
        "    axs[0, i].plot(zetas, accs_list[i])\n",
        "    axs[0, i].set_xlim(zeta_xlims[i])\n",
        "    axs[0, i].set_xlabel(\"Threshold [$\\zeta$]\")\n",
        "    axs[0, i].set_title(titles[i])\n",
        "    axs[1, i].boxplot(\n",
        "        [\n",
        "            scores_list[i][0 : general_options[\"num_series\"]],\n",
        "            scores_list[i][general_options[\"num_series\"] : -1],\n",
        "        ],\n",
        "        labels=[\"Normal\", \"Anomalous\"],\n",
        "    )\n",
        "    axs[1, i].set_yscale(\"log\")\n",
        "    axs[1, i].axhline(\n",
        "        zetas[torch.argmax(accs_list[i])], color=\"k\", linestyle=\":\", label=\"Optimal $\\zeta$\"\n",
        "    )\n",
        "    axs[1, i].legend()\n",
        "axs[0, 0].set_ylabel(\"Accuracy score\")\n",
        "axs[1, 0].set_ylabel(\"Anomaly score [$a_X(y)$]\")\n",
        "fig.tight_layout()"
      ],
      "id": "67941451"
    },
    {
      "cell_type": "code",
      "execution_count": null,
      "metadata": {
        "id": "7f26aa7d"
      },
      "outputs": [],
      "source": [
        "@ct.lattice\n",
        "def testing_workflow(\n",
        "    opt_params: dict,\n",
        "    gamma_length: int,\n",
        "    n_samples: int,\n",
        "    probs_func: callable,\n",
        "    best_zetas: list,\n",
        "    p: int,\n",
        "    split_data: int,\n",
        "    X_all: float,\n",
        "    Y_all: float,\n",
        "    num_series: int,\n",
        "    noise_amp: float,\n",
        "    spike_amp: float,\n",
        "    max_duration: int,\n",
        "    t_init: float,\n",
        "    t_end: float,\n",
        "    k: int,\n",
        "    U: callable,\n",
        "    W: callable,\n",
        "    D: callable,\n",
        "    n_qubits: int,\n",
        "    random_model_seeds: torch.Tensor,\n",
        "    W_layers: int,\n",
        ") -> list:\n",
        "    \"\"\"A workflow for calculating anomaly scores for a set of testing time series\n",
        "    given an optimal model and set of random models. We use the optimal zetas found in threshold tuning.\n",
        "    \"\"\"\n",
        "    # Generate time series\n",
        "    X_val_norm, T = generate_normal_time_series_set(split_data, X_all, p, num_series, noise_amp, t_init, t_end)\n",
        "    X_val_anom, T = generate_anomalous_time_series_set(\n",
        "        split_data, Y_all, p, num_series, noise_amp, spike_amp, max_duration, t_init, t_end\n",
        "    )\n",
        "    truth_labels = get_truth_labels(X_val_norm, X_val_anom)\n",
        "\n",
        "    # Prepare quantum functions\n",
        "    callable_proj = get_callable_projector_func(k, U, W, D, n_qubits, probs_func)\n",
        "\n",
        "    accs_list = []\n",
        "    # Evaluate optimal model\n",
        "    scores = get_norm_and_anom_scores(\n",
        "        X_val_norm, X_val_anom, T, callable_proj, opt_params, gamma_length, n_samples\n",
        "    )\n",
        "    preds = get_preds_given_threshold(best_zetas[0], scores)\n",
        "    accs_list.append(get_accuracy_score(preds, truth_labels))\n",
        "    # Evaluate random models\n",
        "    for zeta, seed in zip(best_zetas[1:], random_model_seeds):\n",
        "        rand_params = get_initial_parameters(W, W_layers, n_qubits, seed)\n",
        "        scores = get_norm_and_anom_scores(\n",
        "            X_val_norm, X_val_anom, T, callable_proj, rand_params, gamma_length, n_samples\n",
        "        )\n",
        "        preds = get_preds_given_threshold(zeta, scores)\n",
        "        accs_list.append(get_accuracy_score(preds, truth_labels))\n",
        "    return accs_list"
      ],
      "id": "7f26aa7d"
    },
    {
      "cell_type": "code",
      "execution_count": null,
      "metadata": {
        "id": "e8190545"
      },
      "outputs": [],
      "source": [
        "testing_options = {\n",
        "    \"spike_amp\": 0.4,\n",
        "    \"max_duration\": 5,\n",
        "    \"split_data\": 3, #testing data\n",
        "    \"X_all\": X_all,\n",
        "    \"Y_all\": Y_all,\n",
        "    \"best_zetas\": [zetas[torch.argmax(accs)] for accs in accs_list],\n",
        "    \"random_model_seeds\": [0, 1],\n",
        "    \"W_layers\": 2,\n",
        "    \"opt_params\": results_dict[\"opt_params\"],\n",
        "}\n",
        "\n",
        "testing_options.update(general_options)\n",
        "\n",
        "test_dispatch_id = ct.dispatch(testing_workflow)(**testing_options)\n",
        "ct_test_results = ct.get_result(dispatch_id=test_dispatch_id, wait=True)\n",
        "accs_list = ct_test_results.result"
      ],
      "id": "e8190545"
    },
    {
      "cell_type": "code",
      "source": [
        "print(accs_list)"
      ],
      "metadata": {
        "id": "c343wWh0vkI4",
        "colab": {
          "base_uri": "https://localhost:8080/"
        },
        "outputId": "f83f50e9-f67a-489a-fd32-e4559379edcc"
      },
      "id": "c343wWh0vkI4",
      "execution_count": null,
      "outputs": [
        {
          "output_type": "stream",
          "name": "stdout",
          "text": [
            "[tensor(0.6200, dtype=torch.float32), tensor(0.5000, dtype=torch.float32), tensor(0.9200, dtype=torch.float32)]\n"
          ]
        }
      ]
    },
    {
      "cell_type": "code",
      "execution_count": null,
      "metadata": {
        "id": "eb32ee38",
        "colab": {
          "base_uri": "https://localhost:8080/",
          "height": 452
        },
        "outputId": "2622fb01-1386-4db4-c3ee-43e95706e115"
      },
      "outputs": [
        {
          "output_type": "display_data",
          "data": {
            "text/plain": [
              "<Figure size 640x480 with 1 Axes>"
            ],
            "image/png": "[encoded data removed]"
          },
          "metadata": {}
        }
      ],
      "source": [
        "plt.figure()\n",
        "plt.bar([1, 2, 3], accs_list)\n",
        "plt.axhline(0.5, color=\"k\", linestyle=\":\", label=\"Random accuracy\")\n",
        "plt.xticks([1, 2, 3], [\"Trained model\", \"Random model 1\", \"Random model 2\"])\n",
        "plt.ylabel(\"Accuracy score\")\n",
        "plt.title(\"Accuracy scores for trained and random models\")\n",
        "leg = plt.legend()"
      ],
      "id": "eb32ee38"
    },
    {
      "cell_type": "code",
      "execution_count": null,
      "metadata": {
        "id": "d7b18f27"
      },
      "outputs": [],
      "source": [
        "# Shut down the covalent server\n",
        "stop = os.system(\"covalent stop\")"
      ],
      "id": "d7b18f27"
    },
    {
      "cell_type": "code",
      "execution_count": null,
      "metadata": {
        "id": "ylLj-_grQCKV",
        "colab": {
          "base_uri": "https://localhost:8080/"
        },
        "outputId": "c87b52ed-080a-495d-b49f-e0e4ee77df78"
      },
      "outputs": [
        {
          "output_type": "stream",
          "name": "stdout",
          "text": [
            "[tensor(0.6200, dtype=torch.float32), tensor(0.5000, dtype=torch.float32), tensor(0.9200, dtype=torch.float32)]\n"
          ]
        }
      ],
      "source": [
        "print(accs_list)"
      ],
      "id": "ylLj-_grQCKV"
    }
  ],
  "metadata": {
    "colab": {
      "provenance": []
    },
    "kernelspec": {
      "display_name": "Python 3",
      "name": "python3"
    },
    "language_info": {
      "name": "python"
    }
  },
  "nbformat": 4,
  "nbformat_minor": 5
}